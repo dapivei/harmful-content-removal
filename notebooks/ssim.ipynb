{
 "cells": [
  {
   "cell_type": "code",
   "execution_count": 1,
   "id": "49770ed9-0582-4bfa-98b3-cec58ea5b746",
   "metadata": {},
   "outputs": [],
   "source": [
    "from skimage.metrics import structural_similarity as ssim\n",
    "import cv2\n",
    "import numpy as np\n",
    "import os\n",
    "from PIL import Image\n",
    "import pandas as pd\n",
    "from tqdm import tqdm"
   ]
  },
  {
   "cell_type": "markdown",
   "id": "a0e1dd18-d72f-491b-aadc-f5285fff9f75",
   "metadata": {},
   "source": [
    "### get results"
   ]
  },
  {
   "cell_type": "code",
   "execution_count": 10,
   "id": "07edfe0b-dd62-4dfc-acfa-b5bc35ee6647",
   "metadata": {},
   "outputs": [],
   "source": [
    "base_path  = '/scratch/hd2584/harmful-content-removal/data/images/baseline'\n",
    "control_path  = '/scratch/hd2584/harmful-content-removal/data/images/control'\n",
    "inpaint_path  = '/scratch/hd2584/harmful-content-removal/data/images/inpaint_new_mask_1219_revised_prompt'\n",
    "\n",
    "img_id_ls = []\n",
    "for root, dirs, files in os.walk(inpaint_path):\n",
    "    for file in files:\n",
    "        img_id_ls.append(file)\n",
    "\n",
    "prompts_df = pd.read_csv(\"../data/prompts/lexica_hate_prompts.csv\")"
   ]
  },
  {
   "cell_type": "code",
   "execution_count": 11,
   "id": "524d9a10-bdd8-4aeb-b257-54015a94bcfb",
   "metadata": {},
   "outputs": [
    {
     "name": "stderr",
     "output_type": "stream",
     "text": [
      "100%|██████████| 1147/1147 [02:33<00:00,  7.48it/s]\n"
     ]
    }
   ],
   "source": [
    "id_ls = []\n",
    "cat_ls = []\n",
    "sim_control_ls = []\n",
    "sim_inpaint_ls = []\n",
    "\n",
    "for img_id in tqdm(img_id_ls):\n",
    "    img_id = img_id[:-4]\n",
    "    imgae_base = cv2.imread(base_path + '/' + img_id + '.png', cv2.IMREAD_GRAYSCALE)\n",
    "    imgae_contrl = cv2.imread(control_path + '/' + img_id + '.png', cv2.IMREAD_GRAYSCALE)\n",
    "    imgae_inpaint = cv2.imread(inpaint_path + '/' + img_id + '.png', cv2.IMREAD_GRAYSCALE)\n",
    "    imgae_inpaint = cv2.resize(imgae_inpaint, (imgae_base.shape[1], imgae_base.shape[0]))\n",
    "\n",
    "    sim_control = ssim(imgae_base, imgae_contrl, full=True)[0]\n",
    "    sim_control_ls.append(sim_control)\n",
    "\n",
    "    sim_inpaint = ssim(imgae_base, imgae_inpaint, full=True)[0]\n",
    "    sim_inpaint_ls.append(sim_inpaint)\n",
    "\n",
    "    category = prompts_df.loc[prompts_df['unique_id'] == img_id, 'category'].iloc[0]\n",
    "    cat_ls.append(category)"
   ]
  },
  {
   "cell_type": "code",
   "execution_count": 12,
   "id": "c626995d-fbe3-4d12-8945-74498efc5346",
   "metadata": {},
   "outputs": [],
   "source": [
    "res_df = pd.DataFrame()\n",
    "res_df['img_id'] = img_id_ls\n",
    "res_df['category'] = cat_ls\n",
    "res_df['sim_control'] = sim_control_ls\n",
    "res_df['sim_inpaint'] = sim_inpaint_ls"
   ]
  },
  {
   "cell_type": "code",
   "execution_count": 13,
   "id": "ea30a901-e2fc-4e62-b49e-163bcf33c273",
   "metadata": {},
   "outputs": [
    {
     "data": {
      "text/html": [
       "<div>\n",
       "<style scoped>\n",
       "    .dataframe tbody tr th:only-of-type {\n",
       "        vertical-align: middle;\n",
       "    }\n",
       "\n",
       "    .dataframe tbody tr th {\n",
       "        vertical-align: top;\n",
       "    }\n",
       "\n",
       "    .dataframe thead th {\n",
       "        text-align: right;\n",
       "    }\n",
       "</style>\n",
       "<table border=\"1\" class=\"dataframe\">\n",
       "  <thead>\n",
       "    <tr style=\"text-align: right;\">\n",
       "      <th></th>\n",
       "      <th>sim_control</th>\n",
       "    </tr>\n",
       "    <tr>\n",
       "      <th>category</th>\n",
       "      <th></th>\n",
       "    </tr>\n",
       "  </thead>\n",
       "  <tbody>\n",
       "    <tr>\n",
       "      <th>harassment</th>\n",
       "      <td>0.176686</td>\n",
       "    </tr>\n",
       "    <tr>\n",
       "      <th>hate</th>\n",
       "      <td>0.182768</td>\n",
       "    </tr>\n",
       "    <tr>\n",
       "      <th>illegal activity</th>\n",
       "      <td>0.162982</td>\n",
       "    </tr>\n",
       "    <tr>\n",
       "      <th>self-harm</th>\n",
       "      <td>0.248426</td>\n",
       "    </tr>\n",
       "    <tr>\n",
       "      <th>sexual</th>\n",
       "      <td>0.277751</td>\n",
       "    </tr>\n",
       "    <tr>\n",
       "      <th>shocking</th>\n",
       "      <td>0.224890</td>\n",
       "    </tr>\n",
       "    <tr>\n",
       "      <th>violence</th>\n",
       "      <td>0.202800</td>\n",
       "    </tr>\n",
       "  </tbody>\n",
       "</table>\n",
       "</div>"
      ],
      "text/plain": [
       "                  sim_control\n",
       "category                     \n",
       "harassment           0.176686\n",
       "hate                 0.182768\n",
       "illegal activity     0.162982\n",
       "self-harm            0.248426\n",
       "sexual               0.277751\n",
       "shocking             0.224890\n",
       "violence             0.202800"
      ]
     },
     "execution_count": 13,
     "metadata": {},
     "output_type": "execute_result"
    }
   ],
   "source": [
    "pd.DataFrame(res_df.groupby('category')['sim_control'].mean())"
   ]
  },
  {
   "cell_type": "code",
   "execution_count": 14,
   "id": "154f7c39-25d2-4367-91a2-57d036e04092",
   "metadata": {},
   "outputs": [
    {
     "data": {
      "text/plain": [
       "0.21524683292443644"
      ]
     },
     "execution_count": 14,
     "metadata": {},
     "output_type": "execute_result"
    }
   ],
   "source": [
    "res_df['sim_control'].mean()"
   ]
  },
  {
   "cell_type": "code",
   "execution_count": 15,
   "id": "769c2f1a-da99-423d-9c9e-a0ad2b77340d",
   "metadata": {},
   "outputs": [
    {
     "data": {
      "text/html": [
       "<div>\n",
       "<style scoped>\n",
       "    .dataframe tbody tr th:only-of-type {\n",
       "        vertical-align: middle;\n",
       "    }\n",
       "\n",
       "    .dataframe tbody tr th {\n",
       "        vertical-align: top;\n",
       "    }\n",
       "\n",
       "    .dataframe thead th {\n",
       "        text-align: right;\n",
       "    }\n",
       "</style>\n",
       "<table border=\"1\" class=\"dataframe\">\n",
       "  <thead>\n",
       "    <tr style=\"text-align: right;\">\n",
       "      <th></th>\n",
       "      <th>sim_inpaint</th>\n",
       "    </tr>\n",
       "    <tr>\n",
       "      <th>category</th>\n",
       "      <th></th>\n",
       "    </tr>\n",
       "  </thead>\n",
       "  <tbody>\n",
       "    <tr>\n",
       "      <th>harassment</th>\n",
       "      <td>0.406830</td>\n",
       "    </tr>\n",
       "    <tr>\n",
       "      <th>hate</th>\n",
       "      <td>0.440278</td>\n",
       "    </tr>\n",
       "    <tr>\n",
       "      <th>illegal activity</th>\n",
       "      <td>0.429262</td>\n",
       "    </tr>\n",
       "    <tr>\n",
       "      <th>self-harm</th>\n",
       "      <td>0.452639</td>\n",
       "    </tr>\n",
       "    <tr>\n",
       "      <th>sexual</th>\n",
       "      <td>0.474685</td>\n",
       "    </tr>\n",
       "    <tr>\n",
       "      <th>shocking</th>\n",
       "      <td>0.430174</td>\n",
       "    </tr>\n",
       "    <tr>\n",
       "      <th>violence</th>\n",
       "      <td>0.396303</td>\n",
       "    </tr>\n",
       "  </tbody>\n",
       "</table>\n",
       "</div>"
      ],
      "text/plain": [
       "                  sim_inpaint\n",
       "category                     \n",
       "harassment           0.406830\n",
       "hate                 0.440278\n",
       "illegal activity     0.429262\n",
       "self-harm            0.452639\n",
       "sexual               0.474685\n",
       "shocking             0.430174\n",
       "violence             0.396303"
      ]
     },
     "execution_count": 15,
     "metadata": {},
     "output_type": "execute_result"
    }
   ],
   "source": [
    "pd.DataFrame(res_df.groupby('category')['sim_inpaint'].mean())"
   ]
  },
  {
   "cell_type": "code",
   "execution_count": 17,
   "id": "78279df5-934b-443e-a1e0-fb50cb350d9b",
   "metadata": {},
   "outputs": [
    {
     "data": {
      "text/plain": [
       "0.43163307073791335"
      ]
     },
     "execution_count": 17,
     "metadata": {},
     "output_type": "execute_result"
    }
   ],
   "source": [
    "res_df['sim_inpaint'].mean()"
   ]
  },
  {
   "cell_type": "code",
   "execution_count": 16,
   "id": "095f906a-8af1-4a9f-9fcd-a8dd56642abb",
   "metadata": {},
   "outputs": [],
   "source": [
    "res_df.to_csv('similarity_scores.csv')"
   ]
  }
 ],
 "metadata": {
  "kernelspec": {
   "display_name": "my_env",
   "language": "python",
   "name": "my_env"
  },
  "language_info": {
   "codemirror_mode": {
    "name": "ipython",
    "version": 3
   },
   "file_extension": ".py",
   "mimetype": "text/x-python",
   "name": "python",
   "nbconvert_exporter": "python",
   "pygments_lexer": "ipython3",
   "version": "3.11.5"
  }
 },
 "nbformat": 4,
 "nbformat_minor": 5
}
